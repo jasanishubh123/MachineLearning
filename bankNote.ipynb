{
 "cells": [
  {
   "cell_type": "code",
   "execution_count": 1,
   "metadata": {},
   "outputs": [],
   "source": [
    "import pandas as pd\n"
   ]
  },
  {
   "cell_type": "code",
   "execution_count": 7,
   "metadata": {},
   "outputs": [
    {
     "data": {
      "text/html": [
       "<div>\n",
       "<style scoped>\n",
       "    .dataframe tbody tr th:only-of-type {\n",
       "        vertical-align: middle;\n",
       "    }\n",
       "\n",
       "    .dataframe tbody tr th {\n",
       "        vertical-align: top;\n",
       "    }\n",
       "\n",
       "    .dataframe thead th {\n",
       "        text-align: right;\n",
       "    }\n",
       "</style>\n",
       "<table border=\"1\" class=\"dataframe\">\n",
       "  <thead>\n",
       "    <tr style=\"text-align: right;\">\n",
       "      <th></th>\n",
       "      <th>Variance</th>\n",
       "      <th>Skewness</th>\n",
       "      <th>Kurtosis</th>\n",
       "      <th>Entropy</th>\n",
       "      <th>Class</th>\n",
       "    </tr>\n",
       "  </thead>\n",
       "  <tbody>\n",
       "    <tr>\n",
       "      <th>0</th>\n",
       "      <td>3.62160</td>\n",
       "      <td>8.66610</td>\n",
       "      <td>-2.8073</td>\n",
       "      <td>-0.44699</td>\n",
       "      <td>0</td>\n",
       "    </tr>\n",
       "    <tr>\n",
       "      <th>1</th>\n",
       "      <td>4.54590</td>\n",
       "      <td>8.16740</td>\n",
       "      <td>-2.4586</td>\n",
       "      <td>-1.46210</td>\n",
       "      <td>0</td>\n",
       "    </tr>\n",
       "    <tr>\n",
       "      <th>2</th>\n",
       "      <td>3.86600</td>\n",
       "      <td>-2.63830</td>\n",
       "      <td>1.9242</td>\n",
       "      <td>0.10645</td>\n",
       "      <td>0</td>\n",
       "    </tr>\n",
       "    <tr>\n",
       "      <th>3</th>\n",
       "      <td>3.45660</td>\n",
       "      <td>9.52280</td>\n",
       "      <td>-4.0112</td>\n",
       "      <td>-3.59440</td>\n",
       "      <td>0</td>\n",
       "    </tr>\n",
       "    <tr>\n",
       "      <th>4</th>\n",
       "      <td>0.32924</td>\n",
       "      <td>-4.45520</td>\n",
       "      <td>4.5718</td>\n",
       "      <td>-0.98880</td>\n",
       "      <td>0</td>\n",
       "    </tr>\n",
       "    <tr>\n",
       "      <th>...</th>\n",
       "      <td>...</td>\n",
       "      <td>...</td>\n",
       "      <td>...</td>\n",
       "      <td>...</td>\n",
       "      <td>...</td>\n",
       "    </tr>\n",
       "    <tr>\n",
       "      <th>1367</th>\n",
       "      <td>0.40614</td>\n",
       "      <td>1.34920</td>\n",
       "      <td>-1.4501</td>\n",
       "      <td>-0.55949</td>\n",
       "      <td>1</td>\n",
       "    </tr>\n",
       "    <tr>\n",
       "      <th>1368</th>\n",
       "      <td>-1.38870</td>\n",
       "      <td>-4.87730</td>\n",
       "      <td>6.4774</td>\n",
       "      <td>0.34179</td>\n",
       "      <td>1</td>\n",
       "    </tr>\n",
       "    <tr>\n",
       "      <th>1369</th>\n",
       "      <td>-3.75030</td>\n",
       "      <td>-13.45860</td>\n",
       "      <td>17.5932</td>\n",
       "      <td>-2.77710</td>\n",
       "      <td>1</td>\n",
       "    </tr>\n",
       "    <tr>\n",
       "      <th>1370</th>\n",
       "      <td>-3.56370</td>\n",
       "      <td>-8.38270</td>\n",
       "      <td>12.3930</td>\n",
       "      <td>-1.28230</td>\n",
       "      <td>1</td>\n",
       "    </tr>\n",
       "    <tr>\n",
       "      <th>1371</th>\n",
       "      <td>-2.54190</td>\n",
       "      <td>-0.65804</td>\n",
       "      <td>2.6842</td>\n",
       "      <td>1.19520</td>\n",
       "      <td>1</td>\n",
       "    </tr>\n",
       "  </tbody>\n",
       "</table>\n",
       "<p>1372 rows × 5 columns</p>\n",
       "</div>"
      ],
      "text/plain": [
       "      Variance  Skewness  Kurtosis  Entropy  Class\n",
       "0      3.62160   8.66610   -2.8073 -0.44699      0\n",
       "1      4.54590   8.16740   -2.4586 -1.46210      0\n",
       "2      3.86600  -2.63830    1.9242  0.10645      0\n",
       "3      3.45660   9.52280   -4.0112 -3.59440      0\n",
       "4      0.32924  -4.45520    4.5718 -0.98880      0\n",
       "...        ...       ...       ...      ...    ...\n",
       "1367   0.40614   1.34920   -1.4501 -0.55949      1\n",
       "1368  -1.38870  -4.87730    6.4774  0.34179      1\n",
       "1369  -3.75030 -13.45860   17.5932 -2.77710      1\n",
       "1370  -3.56370  -8.38270   12.3930 -1.28230      1\n",
       "1371  -2.54190  -0.65804    2.6842  1.19520      1\n",
       "\n",
       "[1372 rows x 5 columns]"
      ]
     },
     "execution_count": 7,
     "metadata": {},
     "output_type": "execute_result"
    }
   ],
   "source": [
    "data = pd.read_csv('data_banknote_authentication.txt', sep=\",\", header=None)\n",
    "data.columns = [\"Variance\", \"Skewness\", \"Kurtosis\", \"Entropy\",\"Class\"]\n",
    "data"
   ]
  },
  {
   "cell_type": "code",
   "execution_count": 9,
   "metadata": {},
   "outputs": [
    {
     "data": {
      "text/plain": [
       "array([[  3.6216 ,   8.6661 ,  -2.8073 ,  -0.44699],\n",
       "       [  4.5459 ,   8.1674 ,  -2.4586 ,  -1.4621 ],\n",
       "       [  3.866  ,  -2.6383 ,   1.9242 ,   0.10645],\n",
       "       ...,\n",
       "       [ -3.7503 , -13.4586 ,  17.5932 ,  -2.7771 ],\n",
       "       [ -3.5637 ,  -8.3827 ,  12.393  ,  -1.2823 ],\n",
       "       [ -2.5419 ,  -0.65804,   2.6842 ,   1.1952 ]])"
      ]
     },
     "execution_count": 9,
     "metadata": {},
     "output_type": "execute_result"
    }
   ],
   "source": [
    "x = data[[\"Variance\",\"Skewness\",\"Kurtosis\",\"Entropy\"]].values\n",
    "x"
   ]
  },
  {
   "cell_type": "code",
   "execution_count": 10,
   "metadata": {},
   "outputs": [
    {
     "data": {
      "text/plain": [
       "array([0, 0, 0, ..., 1, 1, 1], dtype=int64)"
      ]
     },
     "execution_count": 10,
     "metadata": {},
     "output_type": "execute_result"
    }
   ],
   "source": [
    "y = data[\"Class\"].values\n",
    "y"
   ]
  },
  {
   "cell_type": "code",
   "execution_count": 11,
   "metadata": {},
   "outputs": [],
   "source": [
    "from sklearn.model_selection import train_test_split\n",
    "xTest,xTrain,yTest,yTrain = train_test_split(x,y,train_size=0.2,random_state=0)\n"
   ]
  },
  {
   "cell_type": "code",
   "execution_count": 15,
   "metadata": {},
   "outputs": [
    {
     "data": {
      "text/plain": [
       "<matplotlib.collections.PathCollection at 0x23c81cfcfd0>"
      ]
     },
     "execution_count": 15,
     "metadata": {},
     "output_type": "execute_result"
    },
    {
     "data": {
      "image/png": "[encoded data removed]",
      "text/plain": [
       "<Figure size 432x288 with 1 Axes>"
      ]
     },
     "metadata": {
      "needs_background": "light"
     },
     "output_type": "display_data"
    }
   ],
   "source": [
    "%matplotlib inline\n",
    "import matplotlib.pyplot as plt\n",
    "plt.xlabel('per capita income (US$)')\n",
    "plt.ylabel('year')\n",
    "plt.scatter(data[['Entropy']],data['Class'])"
   ]
  },
  {
   "cell_type": "code",
   "execution_count": 16,
   "metadata": {},
   "outputs": [],
   "source": [
    "from sklearn.linear_model import LinearRegression\n",
    "model = LinearRegression()"
   ]
  },
  {
   "cell_type": "code",
   "execution_count": 17,
   "metadata": {},
   "outputs": [
    {
     "data": {
      "text/plain": [
       "LinearRegression()"
      ]
     },
     "execution_count": 17,
     "metadata": {},
     "output_type": "execute_result"
    }
   ],
   "source": [
    "model.fit(xTrain,yTrain)\n"
   ]
  },
  {
   "cell_type": "code",
   "execution_count": 18,
   "metadata": {},
   "outputs": [
    {
     "data": {
      "text/plain": [
       "array([ 0.95110566,  0.8997581 ,  0.88190311,  0.06104795,  0.04294223,\n",
       "       -0.03188002, -0.00317974,  0.68415738,  0.51348231,  0.95956048,\n",
       "        0.03123957, -0.02169489,  0.58518043,  0.9892791 ,  0.12935198,\n",
       "        1.13079207,  0.04392213,  0.77262448, -0.03205766,  1.05761693,\n",
       "        1.02028573,  1.00676708,  0.01710878,  0.77165402,  0.97734237,\n",
       "        0.75354794,  0.72322205, -0.03728173,  0.80582441,  0.17473769,\n",
       "        0.04431541,  0.18792798, -0.2915017 ,  0.02100754,  0.06630403,\n",
       "        1.00922548,  0.80927482,  0.05003392,  1.0099119 ,  0.43799788,\n",
       "        0.93391054, -0.0694126 ,  0.90976986,  0.87262474,  0.03331875,\n",
       "        0.1208598 , -0.21454979,  1.05781962,  0.82478153,  0.02586081,\n",
       "        0.0912019 , -0.01050771,  1.00013655, -0.00442514, -0.08167587,\n",
       "        0.03299121,  1.09548347,  0.91200514,  0.70850557,  0.98253455,\n",
       "        0.06221629,  0.8886113 , -0.219075  ,  0.16970562,  0.71749756,\n",
       "        0.75496058, -0.06536308,  0.78536197,  0.01060348,  0.09561631,\n",
       "        1.06450541,  0.1990594 ,  0.84930311,  0.9441815 ,  0.75463318,\n",
       "        0.24066447,  1.15305187, -0.15049618,  0.71497513,  0.17392834,\n",
       "        0.85781303,  0.86530543,  0.96148613,  0.52355839, -0.36846962,\n",
       "        0.74777653,  0.82723143,  0.12684968,  0.7642704 ,  0.82172829,\n",
       "        0.02067015, -0.13070719,  0.32224911,  1.04841142, -0.15046684,\n",
       "        1.08977124,  0.12372704,  0.06128966,  0.82090603,  0.07097472,\n",
       "        0.01374919,  0.48670628,  0.1372973 ,  0.60076111,  0.08294479,\n",
       "       -0.00503643,  0.05956874, -0.16832002,  0.77219798,  0.99396765,\n",
       "       -0.11421511,  1.00748477,  0.76374022,  0.88992447,  0.28072194,\n",
       "        1.05629743, -0.17567509,  0.6605368 ,  0.96971907,  0.04071393,\n",
       "        0.92702811,  0.87542612,  0.02009832,  0.99445803,  0.48670628,\n",
       "        0.0104185 ,  0.73578378, -0.13802383,  0.29939473,  0.13156561,\n",
       "       -0.32835375,  0.9626444 ,  0.44691095, -0.02729504,  0.84221913,\n",
       "       -0.09458562,  0.13049187, -0.08907207,  0.07925018,  1.04924227,\n",
       "        0.96875395,  0.01328182,  1.00413221,  1.02559046,  0.94742195,\n",
       "       -0.16959634,  1.00682873,  0.07897712,  0.75815748,  0.18860035,\n",
       "        1.00430758,  0.80790204,  0.04618371,  0.80064328,  0.82001131,\n",
       "        0.92222214,  0.85443149,  0.75085192,  0.91431447,  0.07486921,\n",
       "       -0.01024048,  1.06826159,  0.22262121, -0.09812463,  0.13717125,\n",
       "        0.04242362,  0.95286176, -0.1888748 , -0.08598169,  0.28904528,\n",
       "        0.14073848,  1.15280148,  0.11214017,  0.02169276, -0.12451711,\n",
       "        0.13962927,  0.69311078,  0.02433337,  0.80187443,  0.0486088 ,\n",
       "        0.83469133,  0.35033615,  1.06396804,  0.73196124,  0.44598227,\n",
       "       -0.20542865,  0.0677235 ,  0.97926841,  0.03398885,  0.89672472,\n",
       "        0.87234045,  0.89193569,  1.0884419 ,  1.0272513 ,  1.10839478,\n",
       "        0.74828663,  0.80940437,  0.91330184,  0.80127889,  0.97072864,\n",
       "        0.91347914, -0.00753002, -0.20466869, -0.1220616 ,  0.16769074,\n",
       "        0.95964265, -0.00396276, -0.07017695, -0.13901931,  0.98916841,\n",
       "        0.09728848,  0.84049119,  0.99135927,  0.18341475, -0.20005639,\n",
       "       -0.04161603,  0.77685538,  0.91036838,  0.96653903, -0.0357756 ,\n",
       "        0.17771166, -0.07934252, -0.16489864,  0.81237947,  0.81463811,\n",
       "        0.01523495,  0.88337862, -0.45567403,  1.02953057,  0.81112275,\n",
       "       -0.09582131,  0.30806581, -0.14431766,  0.04666311, -0.03822615,\n",
       "        0.10709338,  0.02413217,  0.21578905, -0.13749349,  1.16279927,\n",
       "        0.71344607,  0.03745886,  0.80405   ,  1.10814962,  0.13337099,\n",
       "        0.8340802 ,  1.0071951 ,  0.93407476,  0.05187824,  0.83123466,\n",
       "       -0.20889529, -0.01630962,  0.95264154,  0.28580414,  0.91027034,\n",
       "       -0.25404072,  1.0615994 ,  0.08462137,  0.9973827 ,  0.08014041,\n",
       "        0.05404193, -0.07067848,  0.16806105,  0.18085778, -0.02597007,\n",
       "        0.65847751,  0.23229931,  0.12199742,  0.72901961,  0.74624841,\n",
       "        0.94268466,  0.84698495,  0.00159227, -0.00943279])"
      ]
     },
     "execution_count": 18,
     "metadata": {},
     "output_type": "execute_result"
    }
   ],
   "source": [
    "ypred= model.predict(xTest)\n",
    "ypred"
   ]
  },
  {
   "cell_type": "code",
   "execution_count": 19,
   "metadata": {},
   "outputs": [
    {
     "data": {
      "text/plain": [
       "0.8816585844704431"
      ]
     },
     "execution_count": 19,
     "metadata": {},
     "output_type": "execute_result"
    }
   ],
   "source": [
    "from sklearn.metrics import r2_score\n",
    "r2 = r2_score(yTest, ypred)\n",
    "r2"
   ]
  },
  {
   "cell_type": "code",
   "execution_count": 27,
   "metadata": {},
   "outputs": [
    {
     "data": {
      "text/plain": [
       "array([0.31876117])"
      ]
     },
     "execution_count": 27,
     "metadata": {},
     "output_type": "execute_result"
    }
   ],
   "source": [
    "model.predict([[0.32924,8.66610,-2.4586,0.34179]])"
   ]
  },
  {
   "cell_type": "code",
   "execution_count": null,
   "metadata": {},
   "outputs": [],
   "source": []
  },
  {
   "cell_type": "code",
   "execution_count": null,
   "metadata": {},
   "outputs": [],
   "source": []
  }
 ],
 "metadata": {
  "kernelspec": {
   "display_name": "Python 3",
   "language": "python",
   "name": "python3"
  },
  "language_info": {
   "codemirror_mode": {
    "name": "ipython",
    "version": 3
   },
   "file_extension": ".py",
   "mimetype": "text/x-python",
   "name": "python",
   "nbconvert_exporter": "python",
   "pygments_lexer": "ipython3",
   "version": "3.8.3"
  }
 },
 "nbformat": 4,
 "nbformat_minor": 4
}
