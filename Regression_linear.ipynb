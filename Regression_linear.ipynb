{
 "cells": [
  {
   "cell_type": "code",
   "execution_count": null,
   "metadata": {
    "id": "8UTpw_gZXJjD"
   },
   "outputs": [],
   "source": [
    "import pandas as pd\n"
   ]
  },
  {
   "cell_type": "code",
   "execution_count": null,
   "metadata": {
    "id": "xZT5inU0Xlbb"
   },
   "outputs": [],
   "source": [
    "data = pd.read_csv('Salary_Data.csv')\n",
    "data.head()"
   ]
  },
  {
   "cell_type": "code",
   "execution_count": null,
   "metadata": {
    "id": "bEbNqGLwX70x"
   },
   "outputs": [],
   "source": [
    "data.info()"
   ]
  },
  {
   "cell_type": "code",
   "execution_count": null,
   "metadata": {
    "id": "3LE6zpjUYM5X"
   },
   "outputs": [],
   "source": [
    "x= data['YearsExperience'].values\n",
    "y= data['Salary'].values\n",
    "\n",
    "type(x)\n"
   ]
  },
  {
   "cell_type": "code",
   "execution_count": null,
   "metadata": {
    "id": "dtDwuEO8Y3rV"
   },
   "outputs": [],
   "source": [
    "print(x,'\\n\\n', y)"
   ]
  },
  {
   "cell_type": "code",
   "execution_count": null,
   "metadata": {
    "id": "xaI4CDtiZJdY"
   },
   "outputs": [],
   "source": [
    "x.shape\n",
    "y.shape"
   ]
  },
  {
   "cell_type": "code",
   "execution_count": null,
   "metadata": {
    "colab": {
     "base_uri": "https://localhost:8080/"
    },
    "id": "XxL6LD_nZZfw",
    "outputId": "80b3d354-9001-41dd-963c-44cf10fb4b91"
   },
   "outputs": [
    {
     "data": {
      "text/plain": [
       "array([ 1.1,  1.3,  1.5,  2. ,  2.2,  2.9,  3. ,  3.2,  3.2,  3.7,  3.9,\n",
       "        4. ,  4. ,  4.1,  4.5,  4.9,  5.1,  5.3,  5.9,  6. ,  6.8,  7.1,\n",
       "        7.9,  8.2,  8.7,  9. ,  9.5,  9.6, 10.3, 10.5])"
      ]
     },
     "execution_count": 11,
     "metadata": {
      "tags": []
     },
     "output_type": "execute_result"
    }
   ],
   "source": [
    "x"
   ]
  },
  {
   "cell_type": "code",
   "execution_count": null,
   "metadata": {
    "id": "-wEo3L9KZlYR"
   },
   "outputs": [],
   "source": [
    "# shape of feature should be(no. of samples, no. of features)\n",
    "x=x.reshape(len(x),1)\n",
    "print(x)"
   ]
  },
  {
   "cell_type": "code",
   "execution_count": null,
   "metadata": {
    "id": "IafzUmXuafLW"
   },
   "outputs": [],
   "source": [
    "# divide data into training and testing samples\n",
    "from sklearn.model_selection import train_test_split\n",
    "xtrain, xtest, ytrain, ytest = train_test_split(x,y, train_size = 0.80, random_state=1)\n"
   ]
  },
  {
   "cell_type": "code",
   "execution_count": null,
   "metadata": {
    "id": "oZp2bQubbV8r"
   },
   "outputs": [],
   "source": [
    "xtrain"
   ]
  },
  {
   "cell_type": "code",
   "execution_count": null,
   "metadata": {
    "id": "ZZRu4MvebfN_"
   },
   "outputs": [],
   "source": [
    "xtest"
   ]
  },
  {
   "cell_type": "code",
   "execution_count": null,
   "metadata": {
    "id": "UeMeso5Jbk_v"
   },
   "outputs": [],
   "source": [
    "ytrain"
   ]
  },
  {
   "cell_type": "code",
   "execution_count": null,
   "metadata": {
    "id": "us0TkaGzbp6T"
   },
   "outputs": [],
   "source": [
    "ytest"
   ]
  },
  {
   "cell_type": "code",
   "execution_count": null,
   "metadata": {
    "id": "Xex7_dRRbzca"
   },
   "outputs": [],
   "source": [
    "#prepare model\n",
    "from sklearn.linear_model import LinearRegression\n",
    "model = LinearRegression()\n"
   ]
  },
  {
   "cell_type": "code",
   "execution_count": null,
   "metadata": {
    "colab": {
     "base_uri": "https://localhost:8080/"
    },
    "id": "se_Wv8GbcG0B",
    "outputId": "2a5ca3c6-1e52-43e3-dd82-e762a4fbf975"
   },
   "outputs": [
    {
     "data": {
      "text/plain": [
       "LinearRegression(copy_X=True, fit_intercept=True, n_jobs=None, normalize=False)"
      ]
     },
     "execution_count": 20,
     "metadata": {
      "tags": []
     },
     "output_type": "execute_result"
    }
   ],
   "source": [
    "#train model\n",
    "model.fit(xtrain, ytrain)"
   ]
  },
  {
   "cell_type": "code",
   "execution_count": null,
   "metadata": {
    "colab": {
     "base_uri": "https://localhost:8080/"
    },
    "id": "7-6aQ_vBcbQr",
    "outputId": "bd80df07-41da-4786-ab11-f961d190d3cb"
   },
   "outputs": [
    {
     "data": {
      "text/plain": [
       "array([75074.50510972, 91873.8056381 , 62008.38247653, 81607.56642631,\n",
       "       67608.14931932, 89073.92221671])"
      ]
     },
     "execution_count": 21,
     "metadata": {
      "tags": []
     },
     "output_type": "execute_result"
    }
   ],
   "source": [
    "#prediction\n",
    "ypred = model.predict(xtest)\n",
    "ypred"
   ]
  },
  {
   "cell_type": "code",
   "execution_count": null,
   "metadata": {
    "colab": {
     "base_uri": "https://localhost:8080/"
    },
    "id": "2dm9rt5gct0L",
    "outputId": "caf3355b-2c29-448a-cf36-50c531240459"
   },
   "outputs": [
    {
     "data": {
      "text/plain": [
       "array([83088., 98273., 63218., 93940., 61111., 91738.])"
      ]
     },
     "execution_count": 22,
     "metadata": {
      "tags": []
     },
     "output_type": "execute_result"
    }
   ],
   "source": [
    "ytest"
   ]
  },
  {
   "cell_type": "code",
   "execution_count": null,
   "metadata": {
    "colab": {
     "base_uri": "https://localhost:8080/"
    },
    "id": "-l4jCqPpdET2",
    "outputId": "6ff405e3-8b8a-4be9-82bd-6367c4a2ff11"
   },
   "outputs": [
    {
     "data": {
      "text/plain": [
       "0.7616681465472094"
      ]
     },
     "execution_count": 23,
     "metadata": {
      "tags": []
     },
     "output_type": "execute_result"
    }
   ],
   "source": [
    "from sklearn.metrics import r2_score\n",
    "r2 = r2_score(ytest, ypred)\n",
    "r2"
   ]
  },
  {
   "cell_type": "code",
   "execution_count": null,
   "metadata": {
    "id": "XPPTNXayeEuE"
   },
   "outputs": [],
   "source": [
    "#cross validation\n",
    "accu = []\n",
    "for i in range(1, 101):\n",
    "  xtrain, xtest, ytrain, ytest = train_test_split(x, y, train_size=0.80, random_state=i)\n",
    "  model = LinearRegression()\n",
    "  model.fit(xtrain, ytrain)\n",
    "  ypred = model.predict(xtest)\n",
    "  r2 = r2_score(ytest, ypred)\n",
    "  accu.append(r2)\n"
   ]
  },
  {
   "cell_type": "code",
   "execution_count": null,
   "metadata": {
    "colab": {
     "base_uri": "https://localhost:8080/"
    },
    "id": "RNhXe8a1fihu",
    "outputId": "2635d973-052e-477b-ee61-f85d630786f3"
   },
   "outputs": [
    {
     "data": {
      "text/plain": [
       "array([0.76166815, 0.88869567, 0.96950394, 0.95044045, 0.94396286,\n",
       "       0.93681462, 0.81430228, 0.96311822, 0.93884165, 0.98164235,\n",
       "       0.94088273, 0.94292692, 0.93944603, 0.96062158, 0.86970124,\n",
       "       0.79498902, 0.93847448, 0.88643306, 0.94155318, 0.94412991,\n",
       "       0.93985829, 0.88707026, 0.91841708, 0.9520702 , 0.95317328,\n",
       "       0.98358497, 0.96364258, 0.92178414, 0.94671727, 0.9944092 ,\n",
       "       0.89676495, 0.89859957, 0.93507856, 0.92441414, 0.88394765,\n",
       "       0.95502111, 0.97782421, 0.97247945, 0.99283448, 0.77750835,\n",
       "       0.98025195, 0.90244618, 0.86880452, 0.93495112, 0.92504879,\n",
       "       0.97891298, 0.98399194, 0.98027728, 0.94976703, 0.88246796,\n",
       "       0.96086247, 0.97436467, 0.95011549, 0.949273  , 0.89241371,\n",
       "       0.98040674, 0.80963515, 0.48152205, 0.95479901, 0.91399254,\n",
       "       0.95052229, 0.97195098, 0.9582009 , 0.91400678, 0.81127009,\n",
       "       0.77822856, 0.95888325, 0.97917871, 0.87118241, 0.94293977,\n",
       "       0.96947922, 0.95627718, 0.98121431, 0.96185917, 0.96522429,\n",
       "       0.84682703, 0.97820123, 0.98618366, 0.98066257, 0.9356347 ,\n",
       "       0.97604264, 0.95610946, 0.95324065, 0.95356799, 0.97717399,\n",
       "       0.974311  , 0.95346692, 0.97707617, 0.97442658, 0.96767019,\n",
       "       0.55241428, 0.97939958, 0.96822196, 0.9676991 , 0.90597548,\n",
       "       0.9359396 , 0.95370391, 0.33975139, 0.91023546, 0.97207254])"
      ]
     },
     "execution_count": 31,
     "metadata": {
      "tags": []
     },
     "output_type": "execute_result"
    }
   ],
   "source": [
    "import numpy as np\n",
    "acc_array = np.array(accu)\n",
    "acc_array"
   ]
  },
  {
   "cell_type": "code",
   "execution_count": null,
   "metadata": {
    "colab": {
     "base_uri": "https://localhost:8080/"
    },
    "id": "xgwGxAcagK28",
    "outputId": "fbdd1af2-45d8-4079-df59-67b47a4d4666"
   },
   "outputs": [
    {
     "data": {
      "text/plain": [
       "0.9944092048209745"
      ]
     },
     "execution_count": 32,
     "metadata": {
      "tags": []
     },
     "output_type": "execute_result"
    }
   ],
   "source": [
    "acc_array.max()"
   ]
  },
  {
   "cell_type": "code",
   "execution_count": null,
   "metadata": {
    "colab": {
     "base_uri": "https://localhost:8080/"
    },
    "id": "NY1n3e9VgTuX",
    "outputId": "0672a339-3ce2-4565-def5-1d74f05ea1be"
   },
   "outputs": [
    {
     "data": {
      "text/plain": [
       "29"
      ]
     },
     "execution_count": 33,
     "metadata": {
      "tags": []
     },
     "output_type": "execute_result"
    }
   ],
   "source": [
    "acc_array.argmax()"
   ]
  }
 ],
 "metadata": {
  "colab": {
   "collapsed_sections": [],
   "name": "Regression_linear.ipynb",
   "provenance": []
  },
  "kernelspec": {
   "display_name": "Python 3",
   "language": "python",
   "name": "python3"
  },
  "language_info": {
   "codemirror_mode": {
    "name": "ipython",
    "version": 3
   },
   "file_extension": ".py",
   "mimetype": "text/x-python",
   "name": "python",
   "nbconvert_exporter": "python",
   "pygments_lexer": "ipython3",
   "version": "3.8.3"
  }
 },
 "nbformat": 4,
 "nbformat_minor": 1
}
