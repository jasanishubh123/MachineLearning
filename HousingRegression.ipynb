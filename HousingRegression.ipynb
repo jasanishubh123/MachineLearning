{
 "cells": [
  {
   "cell_type": "code",
   "execution_count": 1,
   "metadata": {},
   "outputs": [],
   "source": [
    "import pandas as pd\n",
    "import numpy as np\n"
   ]
  },
  {
   "cell_type": "code",
   "execution_count": 25,
   "metadata": {},
   "outputs": [
    {
     "ename": "ValueError",
     "evalue": "Length mismatch: Expected axis has 4 elements, new values have 14 elements",
     "output_type": "error",
     "traceback": [
      "\u001b[1;31m---------------------------------------------------------------------------\u001b[0m",
      "\u001b[1;31mValueError\u001b[0m                                Traceback (most recent call last)",
      "\u001b[1;32m<ipython-input-25-e8537957c59d>\u001b[0m in \u001b[0;36m<module>\u001b[1;34m\u001b[0m\n\u001b[0;32m      1\u001b[0m \u001b[0mdata\u001b[0m \u001b[1;33m=\u001b[0m \u001b[0mpd\u001b[0m\u001b[1;33m.\u001b[0m\u001b[0mread_fwf\u001b[0m\u001b[1;33m(\u001b[0m\u001b[1;34m'housing.txt'\u001b[0m\u001b[1;33m)\u001b[0m\u001b[1;33m\u001b[0m\u001b[1;33m\u001b[0m\u001b[0m\n\u001b[1;32m----> 2\u001b[1;33m \u001b[0mdata\u001b[0m\u001b[1;33m.\u001b[0m\u001b[0mcolumns\u001b[0m \u001b[1;33m=\u001b[0m \u001b[1;33m[\u001b[0m\u001b[1;34m\"CRIM\"\u001b[0m\u001b[1;33m,\u001b[0m\u001b[1;34m\"ZN\"\u001b[0m\u001b[1;33m,\u001b[0m\u001b[1;34m\"INDUS\"\u001b[0m\u001b[1;33m,\u001b[0m\u001b[1;34m\"CHAS\"\u001b[0m\u001b[1;33m,\u001b[0m\u001b[1;34m\"NOX\"\u001b[0m\u001b[1;33m,\u001b[0m\u001b[1;34m\"RM\"\u001b[0m\u001b[1;33m,\u001b[0m\u001b[1;34m\"AGE\"\u001b[0m\u001b[1;33m,\u001b[0m\u001b[1;34m\"DIS\"\u001b[0m\u001b[1;33m,\u001b[0m\u001b[1;34m\"RAD\"\u001b[0m\u001b[1;33m,\u001b[0m\u001b[1;34m\"TAX\"\u001b[0m\u001b[1;33m,\u001b[0m\u001b[1;34m\"PTRATIO\"\u001b[0m\u001b[1;33m,\u001b[0m\u001b[1;34m\"B\"\u001b[0m\u001b[1;33m,\u001b[0m\u001b[1;34m\"LSTAT\"\u001b[0m\u001b[1;33m,\u001b[0m\u001b[1;34m\"MEDV\"\u001b[0m\u001b[1;33m]\u001b[0m\u001b[1;33m\u001b[0m\u001b[1;33m\u001b[0m\u001b[0m\n\u001b[0m",
      "\u001b[1;32m~\\anaconda3\\lib\\site-packages\\pandas\\core\\generic.py\u001b[0m in \u001b[0;36m__setattr__\u001b[1;34m(self, name, value)\u001b[0m\n\u001b[0;32m   5285\u001b[0m         \u001b[1;32mtry\u001b[0m\u001b[1;33m:\u001b[0m\u001b[1;33m\u001b[0m\u001b[1;33m\u001b[0m\u001b[0m\n\u001b[0;32m   5286\u001b[0m             \u001b[0mobject\u001b[0m\u001b[1;33m.\u001b[0m\u001b[0m__getattribute__\u001b[0m\u001b[1;33m(\u001b[0m\u001b[0mself\u001b[0m\u001b[1;33m,\u001b[0m \u001b[0mname\u001b[0m\u001b[1;33m)\u001b[0m\u001b[1;33m\u001b[0m\u001b[1;33m\u001b[0m\u001b[0m\n\u001b[1;32m-> 5287\u001b[1;33m             \u001b[1;32mreturn\u001b[0m \u001b[0mobject\u001b[0m\u001b[1;33m.\u001b[0m\u001b[0m__setattr__\u001b[0m\u001b[1;33m(\u001b[0m\u001b[0mself\u001b[0m\u001b[1;33m,\u001b[0m \u001b[0mname\u001b[0m\u001b[1;33m,\u001b[0m \u001b[0mvalue\u001b[0m\u001b[1;33m)\u001b[0m\u001b[1;33m\u001b[0m\u001b[1;33m\u001b[0m\u001b[0m\n\u001b[0m\u001b[0;32m   5288\u001b[0m         \u001b[1;32mexcept\u001b[0m \u001b[0mAttributeError\u001b[0m\u001b[1;33m:\u001b[0m\u001b[1;33m\u001b[0m\u001b[1;33m\u001b[0m\u001b[0m\n\u001b[0;32m   5289\u001b[0m             \u001b[1;32mpass\u001b[0m\u001b[1;33m\u001b[0m\u001b[1;33m\u001b[0m\u001b[0m\n",
      "\u001b[1;32mpandas\\_libs\\properties.pyx\u001b[0m in \u001b[0;36mpandas._libs.properties.AxisProperty.__set__\u001b[1;34m()\u001b[0m\n",
      "\u001b[1;32m~\\anaconda3\\lib\\site-packages\\pandas\\core\\generic.py\u001b[0m in \u001b[0;36m_set_axis\u001b[1;34m(self, axis, labels)\u001b[0m\n\u001b[0;32m    659\u001b[0m \u001b[1;33m\u001b[0m\u001b[0m\n\u001b[0;32m    660\u001b[0m     \u001b[1;32mdef\u001b[0m \u001b[0m_set_axis\u001b[0m\u001b[1;33m(\u001b[0m\u001b[0mself\u001b[0m\u001b[1;33m,\u001b[0m \u001b[0maxis\u001b[0m\u001b[1;33m,\u001b[0m \u001b[0mlabels\u001b[0m\u001b[1;33m)\u001b[0m \u001b[1;33m->\u001b[0m \u001b[1;32mNone\u001b[0m\u001b[1;33m:\u001b[0m\u001b[1;33m\u001b[0m\u001b[1;33m\u001b[0m\u001b[0m\n\u001b[1;32m--> 661\u001b[1;33m         \u001b[0mself\u001b[0m\u001b[1;33m.\u001b[0m\u001b[0m_data\u001b[0m\u001b[1;33m.\u001b[0m\u001b[0mset_axis\u001b[0m\u001b[1;33m(\u001b[0m\u001b[0maxis\u001b[0m\u001b[1;33m,\u001b[0m \u001b[0mlabels\u001b[0m\u001b[1;33m)\u001b[0m\u001b[1;33m\u001b[0m\u001b[1;33m\u001b[0m\u001b[0m\n\u001b[0m\u001b[0;32m    662\u001b[0m         \u001b[0mself\u001b[0m\u001b[1;33m.\u001b[0m\u001b[0m_clear_item_cache\u001b[0m\u001b[1;33m(\u001b[0m\u001b[1;33m)\u001b[0m\u001b[1;33m\u001b[0m\u001b[1;33m\u001b[0m\u001b[0m\n\u001b[0;32m    663\u001b[0m \u001b[1;33m\u001b[0m\u001b[0m\n",
      "\u001b[1;32m~\\anaconda3\\lib\\site-packages\\pandas\\core\\internals\\managers.py\u001b[0m in \u001b[0;36mset_axis\u001b[1;34m(self, axis, new_labels)\u001b[0m\n\u001b[0;32m    175\u001b[0m \u001b[1;33m\u001b[0m\u001b[0m\n\u001b[0;32m    176\u001b[0m         \u001b[1;32mif\u001b[0m \u001b[0mnew_len\u001b[0m \u001b[1;33m!=\u001b[0m \u001b[0mold_len\u001b[0m\u001b[1;33m:\u001b[0m\u001b[1;33m\u001b[0m\u001b[1;33m\u001b[0m\u001b[0m\n\u001b[1;32m--> 177\u001b[1;33m             raise ValueError(\n\u001b[0m\u001b[0;32m    178\u001b[0m                 \u001b[1;34mf\"Length mismatch: Expected axis has {old_len} elements, new \"\u001b[0m\u001b[1;33m\u001b[0m\u001b[1;33m\u001b[0m\u001b[0m\n\u001b[0;32m    179\u001b[0m                 \u001b[1;34mf\"values have {new_len} elements\"\u001b[0m\u001b[1;33m\u001b[0m\u001b[1;33m\u001b[0m\u001b[0m\n",
      "\u001b[1;31mValueError\u001b[0m: Length mismatch: Expected axis has 4 elements, new values have 14 elements"
     ]
    }
   ],
   "source": [
    "data = pd.read_fwf('housing.txt')\n",
    "data.columns = [\"CRIM\",\"ZN\",\"INDUS\",\"CHAS\",\"NOX\",\"RM\",\"AGE\",\"DIS\",\"RAD\",\"TAX\",\"PTRATIO\",\"B\",\"LSTAT\",\"MEDV\"]"
   ]
  },
  {
   "cell_type": "code",
   "execution_count": 23,
   "metadata": {},
   "outputs": [
    {
     "data": {
      "text/html": [
       "<div>\n",
       "<style scoped>\n",
       "    .dataframe tbody tr th:only-of-type {\n",
       "        vertical-align: middle;\n",
       "    }\n",
       "\n",
       "    .dataframe tbody tr th {\n",
       "        vertical-align: top;\n",
       "    }\n",
       "\n",
       "    .dataframe thead th {\n",
       "        text-align: right;\n",
       "    }\n",
       "</style>\n",
       "<table border=\"1\" class=\"dataframe\">\n",
       "  <thead>\n",
       "    <tr style=\"text-align: right;\">\n",
       "      <th></th>\n",
       "      <th>ï»¿0.00632  18.00   2.310</th>\n",
       "      <th>0  0.5380  6.5750  65.20  4.0900</th>\n",
       "      <th>Unnamed: 2</th>\n",
       "      <th>1  296.0  15.30 396.90   4.98  24.00</th>\n",
       "    </tr>\n",
       "  </thead>\n",
       "  <tbody>\n",
       "    <tr>\n",
       "      <th>0</th>\n",
       "      <td>0.02731   0.00   7.070  0</td>\n",
       "      <td>0.4690  6.4210  78.90  4.9671</td>\n",
       "      <td>2</td>\n",
       "      <td>242.0  17.80 396.90   9.14  21.60</td>\n",
       "    </tr>\n",
       "    <tr>\n",
       "      <th>1</th>\n",
       "      <td>0.02729   0.00   7.070  0</td>\n",
       "      <td>0.4690  7.1850  61.10  4.9671</td>\n",
       "      <td>2</td>\n",
       "      <td>242.0  17.80 392.83   4.03  34.70</td>\n",
       "    </tr>\n",
       "    <tr>\n",
       "      <th>2</th>\n",
       "      <td>0.03237   0.00   2.180  0</td>\n",
       "      <td>0.4580  6.9980  45.80  6.0622</td>\n",
       "      <td>3</td>\n",
       "      <td>222.0  18.70 394.63   2.94  33.40</td>\n",
       "    </tr>\n",
       "    <tr>\n",
       "      <th>3</th>\n",
       "      <td>0.06905   0.00   2.180  0</td>\n",
       "      <td>0.4580  7.1470  54.20  6.0622</td>\n",
       "      <td>3</td>\n",
       "      <td>222.0  18.70 396.90   5.33  36.20</td>\n",
       "    </tr>\n",
       "    <tr>\n",
       "      <th>4</th>\n",
       "      <td>0.02985   0.00   2.180  0</td>\n",
       "      <td>0.4580  6.4300  58.70  6.0622</td>\n",
       "      <td>3</td>\n",
       "      <td>222.0  18.70 394.12   5.21  28.70</td>\n",
       "    </tr>\n",
       "    <tr>\n",
       "      <th>...</th>\n",
       "      <td>...</td>\n",
       "      <td>...</td>\n",
       "      <td>...</td>\n",
       "      <td>...</td>\n",
       "    </tr>\n",
       "    <tr>\n",
       "      <th>500</th>\n",
       "      <td>0.06263   0.00  11.930  0</td>\n",
       "      <td>0.5730  6.5930  69.10  2.4786</td>\n",
       "      <td>1</td>\n",
       "      <td>273.0  21.00 391.99   9.67  22.40</td>\n",
       "    </tr>\n",
       "    <tr>\n",
       "      <th>501</th>\n",
       "      <td>0.04527   0.00  11.930  0</td>\n",
       "      <td>0.5730  6.1200  76.70  2.2875</td>\n",
       "      <td>1</td>\n",
       "      <td>273.0  21.00 396.90   9.08  20.60</td>\n",
       "    </tr>\n",
       "    <tr>\n",
       "      <th>502</th>\n",
       "      <td>0.06076   0.00  11.930  0</td>\n",
       "      <td>0.5730  6.9760  91.00  2.1675</td>\n",
       "      <td>1</td>\n",
       "      <td>273.0  21.00 396.90   5.64  23.90</td>\n",
       "    </tr>\n",
       "    <tr>\n",
       "      <th>503</th>\n",
       "      <td>0.10959   0.00  11.930  0</td>\n",
       "      <td>0.5730  6.7940  89.30  2.3889</td>\n",
       "      <td>1</td>\n",
       "      <td>273.0  21.00 393.45   6.48  22.00</td>\n",
       "    </tr>\n",
       "    <tr>\n",
       "      <th>504</th>\n",
       "      <td>0.04741   0.00  11.930  0</td>\n",
       "      <td>0.5730  6.0300  80.80  2.5050</td>\n",
       "      <td>1</td>\n",
       "      <td>273.0  21.00 396.90   7.88  11.90</td>\n",
       "    </tr>\n",
       "  </tbody>\n",
       "</table>\n",
       "<p>505 rows × 4 columns</p>\n",
       "</div>"
      ],
      "text/plain": [
       "     ï»¿0.00632  18.00   2.310 0  0.5380  6.5750  65.20  4.0900  Unnamed: 2  \\\n",
       "0    0.02731   0.00   7.070  0    0.4690  6.4210  78.90  4.9671           2   \n",
       "1    0.02729   0.00   7.070  0    0.4690  7.1850  61.10  4.9671           2   \n",
       "2    0.03237   0.00   2.180  0    0.4580  6.9980  45.80  6.0622           3   \n",
       "3    0.06905   0.00   2.180  0    0.4580  7.1470  54.20  6.0622           3   \n",
       "4    0.02985   0.00   2.180  0    0.4580  6.4300  58.70  6.0622           3   \n",
       "..                         ...                              ...         ...   \n",
       "500  0.06263   0.00  11.930  0    0.5730  6.5930  69.10  2.4786           1   \n",
       "501  0.04527   0.00  11.930  0    0.5730  6.1200  76.70  2.2875           1   \n",
       "502  0.06076   0.00  11.930  0    0.5730  6.9760  91.00  2.1675           1   \n",
       "503  0.10959   0.00  11.930  0    0.5730  6.7940  89.30  2.3889           1   \n",
       "504  0.04741   0.00  11.930  0    0.5730  6.0300  80.80  2.5050           1   \n",
       "\n",
       "    1  296.0  15.30 396.90   4.98  24.00  \n",
       "0      242.0  17.80 396.90   9.14  21.60  \n",
       "1      242.0  17.80 392.83   4.03  34.70  \n",
       "2      222.0  18.70 394.63   2.94  33.40  \n",
       "3      222.0  18.70 396.90   5.33  36.20  \n",
       "4      222.0  18.70 394.12   5.21  28.70  \n",
       "..                                   ...  \n",
       "500    273.0  21.00 391.99   9.67  22.40  \n",
       "501    273.0  21.00 396.90   9.08  20.60  \n",
       "502    273.0  21.00 396.90   5.64  23.90  \n",
       "503    273.0  21.00 393.45   6.48  22.00  \n",
       "504    273.0  21.00 396.90   7.88  11.90  \n",
       "\n",
       "[505 rows x 4 columns]"
      ]
     },
     "execution_count": 23,
     "metadata": {},
     "output_type": "execute_result"
    }
   ],
   "source": [
    "data"
   ]
  },
  {
   "cell_type": "code",
   "execution_count": null,
   "metadata": {},
   "outputs": [],
   "source": []
  },
  {
   "cell_type": "code",
   "execution_count": null,
   "metadata": {},
   "outputs": [],
   "source": []
  }
 ],
 "metadata": {
  "kernelspec": {
   "display_name": "Python 3",
   "language": "python",
   "name": "python3"
  },
  "language_info": {
   "codemirror_mode": {
    "name": "ipython",
    "version": 3
   },
   "file_extension": ".py",
   "mimetype": "text/x-python",
   "name": "python",
   "nbconvert_exporter": "python",
   "pygments_lexer": "ipython3",
   "version": "3.8.3"
  }
 },
 "nbformat": 4,
 "nbformat_minor": 4
}
